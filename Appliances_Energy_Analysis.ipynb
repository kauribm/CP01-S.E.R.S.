{
 "cells": [
  {
   "cell_type": "markdown",
   "id": "ea3cdc2b",
   "metadata": {},
   "source": [
    "\n",
    "# Appliances Energy Prediction — Análises em Python (Parte 3)\n",
    "\n",
    "Este notebook cobre as tarefas 26 a 35 usando o dataset \"Appliances energy prediction\" da UCI:\n",
    "https://archive.ics.uci.edu/dataset/374/appliances+energy+prediction\n",
    "\n",
    "O notebook inclui download automático do arquivo, carregamento, análises exploratórias, PCA, modelagem e avaliação.\n"
   ]
  },
  {
   "cell_type": "code",
   "execution_count": null,
   "id": "e34ff488",
   "metadata": {},
   "outputs": [],
   "source": [
    "\n",
    "# Tentativa de download do dataset da UCI se não existir localmente.\n",
    "import os, urllib.request, zipfile, io, pandas as pd\n",
    "\n",
    "DATA_URL = \"https://archive.ics.uci.edu/ml/machine-learning-databases/00374/energydata_complete.csv\"\n",
    "FNAME = \"energydata_complete.csv\"\n",
    "\n",
    "if not os.path.exists(FNAME):\n",
    "    try:\n",
    "        print(\"Baixando dataset...\")\n",
    "        urllib.request.urlretrieve(DATA_URL, FNAME)\n",
    "        print(\"Download concluído:\", FNAME)\n",
    "    except Exception as e:\n",
    "        print(\"Falha ao baixar automaticamente. Faça o download manualmente:\", e)\n",
    "else:\n",
    "    print(\"Arquivo encontrado:\", FNAME)\n"
   ]
  },
  {
   "cell_type": "markdown",
   "id": "b5f30d8a",
   "metadata": {},
   "source": [
    "## Imports e configurações"
   ]
  },
  {
   "cell_type": "code",
   "execution_count": null,
   "id": "2555ad35",
   "metadata": {},
   "outputs": [],
   "source": [
    "\n",
    "import pandas as pd\n",
    "import numpy as np\n",
    "import matplotlib.pyplot as plt\n",
    "from sklearn.preprocessing import MinMaxScaler, StandardScaler\n",
    "from sklearn.decomposition import PCA\n",
    "from sklearn.model_selection import train_test_split\n",
    "from sklearn.linear_model import LinearRegression, LogisticRegression\n",
    "from sklearn.ensemble import RandomForestRegressor, RandomForestClassifier\n",
    "from sklearn.cluster import KMeans\n",
    "from sklearn.metrics import mean_squared_error, r2_score, confusion_matrix, classification_report, accuracy_score, precision_score, recall_score, f1_score\n",
    "pd.set_option('display.max_columns', None)\n"
   ]
  },
  {
   "cell_type": "markdown",
   "id": "59cf17c8",
   "metadata": {},
   "source": [
    "## 26) Carregamento e inspeção inicial"
   ]
  },
  {
   "cell_type": "code",
   "execution_count": null,
   "id": "f76b6947",
   "metadata": {},
   "outputs": [],
   "source": [
    "\n",
    "df = pd.read_csv('energydata_complete.csv')\n",
    "print('Formato:', df.shape)\n",
    "print('\\n.info()\\n')\n",
    "print(df.info())\n",
    "print('\\n.describe()\\n')\n",
    "df.describe().T\n"
   ]
  },
  {
   "cell_type": "markdown",
   "id": "14279b1d",
   "metadata": {},
   "source": [
    "\n",
    "## 27) Distribuição do consumo (`Appliances`)\n",
    "- Histogramas e série temporal.\n"
   ]
  },
  {
   "cell_type": "code",
   "execution_count": null,
   "id": "a62317cd",
   "metadata": {},
   "outputs": [],
   "source": [
    "\n",
    "# Histograma\n",
    "plt.figure(figsize=(6,4))\n",
    "plt.hist(df['Appliances'], bins=50)\n",
    "plt.title('Histograma de Appliances')\n",
    "plt.xlabel('Appliances (Wh)')\n",
    "plt.ylabel('Frequência')\n",
    "plt.tight_layout()\n",
    "plt.show()\n",
    "\n",
    "# Série temporal (amostragem dos primeiros 7 dias para visualização)\n",
    "df['date'] = pd.to_datetime(df['date'])\n",
    "plt.figure(figsize=(10,4))\n",
    "sample_ts = df.set_index('date')['Appliances'].iloc[:24*7]  # primeiros 7 dias\n",
    "plt.plot(sample_ts.index, sample_ts.values)\n",
    "plt.title('Série temporal - Appliances (primeira semana)')\n",
    "plt.xlabel('Data')\n",
    "plt.ylabel('Appliances (Wh)')\n",
    "plt.tight_layout()\n",
    "plt.show()\n"
   ]
  },
  {
   "cell_type": "markdown",
   "id": "8bde018c",
   "metadata": {},
   "source": [
    "\n",
    "## 28) Correlações entre `Appliances` e variáveis ambientais (temperatura, umidade...)\n"
   ]
  },
  {
   "cell_type": "code",
   "execution_count": null,
   "id": "2704b7ff",
   "metadata": {},
   "outputs": [],
   "source": [
    "\n",
    "# Seleciona variáveis ambientais relevantes do dataset\n",
    "env_vars = ['T1','RH_1','T2','RH_2','T3','RH_3','T_out','RH_out','Windspeed','Press_mm_hg','Tdewpoint']\n",
    "# Nem todos podem existir; filtramos os que estão presentes\n",
    "env_vars = [v for v in env_vars if v in df.columns]\n",
    "\n",
    "corrs = df[['Appliances'] + env_vars].corr().loc['Appliances', env_vars].sort_values(ascending=False)\n",
    "corrs\n"
   ]
  },
  {
   "cell_type": "markdown",
   "id": "898ab4c3",
   "metadata": {},
   "source": [
    "\n",
    "## 29) Normalização (Min-Max Scaling) das variáveis numéricas\n",
    "- Aplicar Min-Max e armazenar em `df_scaled` para uso posterior.\n"
   ]
  },
  {
   "cell_type": "code",
   "execution_count": null,
   "id": "51d0b57c",
   "metadata": {},
   "outputs": [],
   "source": [
    "\n",
    "num_cols = df.select_dtypes(include=[np.number]).columns.tolist()\n",
    "num_cols.remove('Appliances') if 'Appliances' in num_cols else None\n",
    "\n",
    "scaler = MinMaxScaler()\n",
    "df_scaled = df.copy()\n",
    "df_scaled[num_cols] = scaler.fit_transform(df_scaled[num_cols])\n",
    "\n",
    "# também escalamos Appliances para consistência se quisermos (opcional)\n",
    "df_scaled['Appliances_scaled'] = MinMaxScaler().fit_transform(df[['Appliances']])\n",
    "\n",
    "print('Exemplo de dados normalizados:')\n",
    "df_scaled[num_cols + ['Appliances_scaled']].head()\n"
   ]
  },
  {
   "cell_type": "markdown",
   "id": "e33b25c0",
   "metadata": {},
   "source": [
    "\n",
    "## 30) PCA — reduzir para 2 componentes principais\n",
    "- Aplicar PCA nas variáveis numéricas (excluindo `date`) e plotar os pontos.\n"
   ]
  },
  {
   "cell_type": "code",
   "execution_count": null,
   "id": "5db69abf",
   "metadata": {},
   "outputs": [],
   "source": [
    "\n",
    "from sklearn.preprocessing import StandardScaler\n",
    "pca_cols = df.select_dtypes(include=[np.number]).columns.tolist()\n",
    "pca_cols = [c for c in pca_cols if c not in ['Appliances_scaled','Appliances']]\n",
    "\n",
    "X = df[pca_cols].dropna().astype(float)\n",
    "X_scaled = StandardScaler().fit_transform(X)\n",
    "\n",
    "pca = PCA(n_components=2, random_state=42)\n",
    "X_pca = pca.fit_transform(X_scaled)\n",
    "\n",
    "print('Variância explicada por componente:', pca.explained_variance_ratio_)\n",
    "\n",
    "plt.figure(figsize=(8,6))\n",
    "plt.scatter(X_pca[:,0], X_pca[:,1], s=10, alpha=0.5)\n",
    "plt.xlabel('PC1')\n",
    "plt.ylabel('PC2')\n",
    "plt.title('PCA (2 componentes) — Appliances dataset')\n",
    "plt.grid(alpha=0.3)\n",
    "plt.show()\n"
   ]
  },
  {
   "cell_type": "markdown",
   "id": "c0edc9d4",
   "metadata": {},
   "source": [
    "\n",
    "## 31) Regressão Linear Múltipla — prever `Appliances` a partir das variáveis ambientais\n"
   ]
  },
  {
   "cell_type": "code",
   "execution_count": null,
   "id": "18d1b869",
   "metadata": {},
   "outputs": [],
   "source": [
    "\n",
    "# Preparar features: usamos variáveis numéricas exceto date and Appliances\n",
    "features = [c for c in df.select_dtypes(include=[np.number]).columns if c != 'Appliances']\n",
    "X = df[features].astype(float).fillna(method='ffill').fillna(method='bfill')\n",
    "y = df['Appliances'].astype(float)\n",
    "\n",
    "X_train, X_test, y_train, y_test = train_test_split(X, y, test_size=0.2, random_state=42)\n",
    "\n",
    "lr = LinearRegression()\n",
    "lr.fit(X_train, y_train)\n",
    "y_pred = lr.predict(X_test)\n",
    "\n",
    "rmse_lr = mean_squared_error(y_test, y_pred, squared=False)\n",
    "r2_lr = r2_score(y_test, y_pred)\n",
    "rmse_lr, r2_lr\n"
   ]
  },
  {
   "cell_type": "markdown",
   "id": "5476fc87",
   "metadata": {},
   "source": [
    "\n",
    "## 32) Random Forest Regressor — comparar RMSE com regressão linear\n"
   ]
  },
  {
   "cell_type": "code",
   "execution_count": null,
   "id": "ee656e75",
   "metadata": {},
   "outputs": [],
   "source": [
    "\n",
    "rf = RandomForestRegressor(n_estimators=100, random_state=42, n_jobs=-1)\n",
    "rf.fit(X_train, y_train)\n",
    "y_pred_rf = rf.predict(X_test)\n",
    "\n",
    "rmse_rf = mean_squared_error(y_test, y_pred_rf, squared=False)\n",
    "r2_rf = r2_score(y_test, y_pred_rf)\n",
    "rmse_rf, r2_rf\n"
   ]
  },
  {
   "cell_type": "markdown",
   "id": "37fbc122",
   "metadata": {},
   "source": [
    "\n",
    "## 33) K-Means clustering (3 a 5 clusters) — interpretar perfis de consumo\n"
   ]
  },
  {
   "cell_type": "code",
   "execution_count": null,
   "id": "6a6f2176",
   "metadata": {},
   "outputs": [],
   "source": [
    "\n",
    "from sklearn.metrics import silhouette_score\n",
    "\n",
    "# Usar apenas features numéricas reduzidas por StandardScaler\n",
    "kmeans_X = StandardScaler().fit_transform(df.select_dtypes(include=[np.number]).fillna(0))\n",
    "\n",
    "results = {}\n",
    "for k in range(3,6):\n",
    "    km = KMeans(n_clusters=k, random_state=42, n_init=10)\n",
    "    labels = km.fit_predict(kmeans_X)\n",
    "    sil = silhouette_score(kmeans_X, labels)\n",
    "    results[k] = {'kmeans': km, 'labels': labels, 'silhouette': sil}\n",
    "\n",
    "results_summ = {k: {'silhouette': results[k]['silhouette'], 'sizes': np.bincount(results[k]['labels'])} for k in results}\n",
    "results_summ\n"
   ]
  },
  {
   "cell_type": "markdown",
   "id": "9943d588",
   "metadata": {},
   "source": [
    "\n",
    "## 34) Classificação binária — alto vs baixo consumo (mediana)\n",
    "- Treinar Logistic Regression e Random Forest Classifier.\n"
   ]
  },
  {
   "cell_type": "code",
   "execution_count": null,
   "id": "6efc0188",
   "metadata": {},
   "outputs": [],
   "source": [
    "\n",
    "# Criar target binário\n",
    "median_val = df['Appliances'].median()\n",
    "df_class = df.copy()\n",
    "df_class['high_consumption'] = (df_class['Appliances'] > median_val).astype(int)\n",
    "\n",
    "# Usar mesmas features que antes (numéricas)\n",
    "features = [c for c in df_class.select_dtypes(include=[np.number]).columns if c not in ['Appliances','high_consumption']]\n",
    "Xc = df_class[features].fillna(0)\n",
    "yc = df_class['high_consumption']\n",
    "\n",
    "Xc_train, Xc_test, yc_train, yc_test = train_test_split(Xc, yc, test_size=0.2, random_state=42, stratify=yc)\n",
    "\n",
    "# Logistic Regression\n",
    "logr = LogisticRegression(max_iter=1000)\n",
    "logr.fit(Xc_train, yc_train)\n",
    "yc_pred_log = logr.predict(Xc_test)\n",
    "\n",
    "# Random Forest Classifier\n",
    "rfc = RandomForestClassifier(n_estimators=100, random_state=42, n_jobs=-1)\n",
    "rfc.fit(Xc_train, yc_train)\n",
    "yc_pred_rf = rfc.predict(Xc_test)\n",
    "\n",
    "print('Logistic trained, RandomForest trained')\n"
   ]
  },
  {
   "cell_type": "markdown",
   "id": "6dcddd0e",
   "metadata": {},
   "source": [
    "\n",
    "## 35) Avaliação de classificação — matriz de confusão e métricas\n"
   ]
  },
  {
   "cell_type": "code",
   "execution_count": null,
   "id": "b3da1f75",
   "metadata": {},
   "outputs": [],
   "source": [
    "\n",
    "from sklearn.metrics import confusion_matrix, classification_report, accuracy_score\n",
    "\n",
    "print('=== Logistic Regression ===')\n",
    "print('Accuracy:', accuracy_score(yc_test, yc_pred_log))\n",
    "print(classification_report(yc_test, yc_pred_log))\n",
    "print('Confusion matrix:\\n', confusion_matrix(yc_test, yc_pred_log))\n",
    "\n",
    "print('\\n=== Random Forest ===')\n",
    "print('Accuracy:', accuracy_score(yc_test, yc_pred_rf))\n",
    "print(classification_report(yc_test, yc_pred_rf))\n",
    "print('Confusion matrix:\\n', confusion_matrix(yc_test, yc_pred_rf))\n"
   ]
  },
  {
   "cell_type": "markdown",
   "id": "7ddf0b02",
   "metadata": {},
   "source": [
    "\n",
    "### Observações rápidas\n",
    "- O dataset contém medições em Wh e variáveis ambientais internas/externas.  \n",
    "- Em modelos de regressão, Random Forest costuma superar Regressão Linear quando há relações não-lineares.  \n",
    "- Em classificação binária, analise qual classe apresenta mais erros através da matriz de confusão (ex.: `False Negative` indica alto consumo classificado como baixo).\n"
   ]
  }
 ],
 "metadata": {},
 "nbformat": 4,
 "nbformat_minor": 5
}
