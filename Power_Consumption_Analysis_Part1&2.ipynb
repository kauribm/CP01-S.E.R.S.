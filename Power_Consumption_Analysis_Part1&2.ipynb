{
 "cells": [
  {
   "cell_type": "markdown",
   "id": "86c87ec9",
   "metadata": {},
   "source": [
    "\n",
    "# Individual Household Electric Power Consumption — Análises em Python\n",
    "\n",
    "Este notebook utiliza o conjunto de dados:  \n",
    "<https://archive.ics.uci.edu/dataset/235/individual+household+electric+power+consumption>\n",
    "\n",
    "Fonte direta dos arquivos (UCI):  \n",
    "<https://archive.ics.uci.edu/ml/machine-learning-databases/00235/household_power_consumption.zip>\n",
    "\n",
    "**Observações importantes**\n",
    "- As medidas são registradas a cada minuto (amostragem de 1-min).\n",
    "- Valores ausentes são representados por `?` no arquivo original.\n",
    "- Unidade de **Global_active_power** e **Global_reactive_power**: quilowatts (kW).  \n",
    "- Para converter potência (kW) em energia (kWh) em um período, utiliza-se a soma de `potência * (intervalo_em_horas)`. Com dados por minuto, `kWh = soma(kW) * (1/60)` ao longo do dia/mês.\n",
    "- Algumas operações agregam por **dia** (ex.: consumo diário) e por **mês**.\n",
    "\n",
    "Abaixo seguem as 20 tarefas solicitadas.\n"
   ]
  },
  {
   "cell_type": "markdown",
   "id": "4abcbb16",
   "metadata": {},
   "source": [
    "\n",
    "## Preparação do ambiente\n",
    "\n",
    "Se o arquivo `household_power_consumption.txt` não estiver disponível localmente, a célula a seguir tenta baixá-lo e descompactá-lo automaticamente do repositório da UCI.  \n",
    "> **Dica**: caso seu ambiente bloqueie downloads por Python, baixe manualmente o `.zip` do link acima e extraia o `.txt` na mesma pasta do notebook.\n"
   ]
  },
  {
   "cell_type": "code",
   "execution_count": null,
   "id": "249f820a",
   "metadata": {},
   "outputs": [],
   "source": [
    "\n",
    "import os, zipfile, urllib.request, io\n",
    "\n",
    "DATA_ZIP_URL = \"https://archive.ics.uci.edu/ml/machine-learning-databases/00235/household_power_consumption.zip\"\n",
    "DATA_TXT = \"household_power_consumption.txt\"\n",
    "\n",
    "if not os.path.exists(DATA_TXT):\n",
    "    try:\n",
    "        print(\"Baixando dataset da UCI...\")\n",
    "        with urllib.request.urlopen(DATA_ZIP_URL) as resp:\n",
    "            data = resp.read()\n",
    "        zf = zipfile.ZipFile(io.BytesIO(data))\n",
    "        zf.extractall(\".\")\n",
    "        print(\"Download e extração concluídos.\")\n",
    "    except Exception as e:\n",
    "        print(\"Falha ao baixar automaticamente. Faça o download manual:\", e)\n",
    "else:\n",
    "    print(\"Arquivo encontrado localmente:\", DATA_TXT)\n"
   ]
  },
  {
   "cell_type": "code",
   "execution_count": null,
   "id": "58988908",
   "metadata": {},
   "outputs": [],
   "source": [
    "\n",
    "import pandas as pd\n",
    "import numpy as np\n",
    "import matplotlib.pyplot as plt\n",
    "from datetime import datetime\n",
    "from sklearn.preprocessing import MinMaxScaler\n",
    "from sklearn.cluster import KMeans\n",
    "from sklearn.model_selection import train_test_split\n",
    "from sklearn.linear_model import LinearRegression\n",
    "from sklearn.metrics import mean_absolute_error, mean_squared_error, r2_score\n",
    "from statsmodels.tsa.seasonal import seasonal_decompose\n",
    "\n",
    "# Configurações gerais\n",
    "pd.set_option(\"display.max_columns\", None)\n"
   ]
  },
  {
   "cell_type": "markdown",
   "id": "f2177b39",
   "metadata": {},
   "source": [
    "\n",
    "## 1) Carregar o dataset e exibir as 10 primeiras linhas\n"
   ]
  },
  {
   "cell_type": "code",
   "execution_count": null,
   "id": "a5929793",
   "metadata": {},
   "outputs": [],
   "source": [
    "\n",
    "# Leitura do arquivo (separador ';', valores ausentes '?')\n",
    "df = pd.read_csv(\n",
    "    \"household_power_consumption.txt\",\n",
    "    sep=\";\",\n",
    "    na_values=[\"?\"],\n",
    "    low_memory=False\n",
    ")\n",
    "\n",
    "# Exibe as 10 primeiras linhas\n",
    "df.head(10)\n"
   ]
  },
  {
   "cell_type": "markdown",
   "id": "ead51190",
   "metadata": {},
   "source": [
    "\n",
    "## 2) Diferença entre **Global_active_power** e **Global_reactive_power**\n",
    "\n",
    "- **Global_active_power (kW)**: potência ativa consumida pela residência — é a componente efetiva da potência que realiza trabalho útil (aquela que, integrada no tempo, resulta em **energia ativa (kWh)**).  \n",
    "- **Global_reactive_power (kW)**: potência reativa associada aos campos elétricos e magnéticos de cargas indutivas/capacitivas. Ela não realiza trabalho útil líquido, mas circula entre a fonte e a carga, afetando o dimensionamento da instalação (correntes/cabos).\n",
    "\n",
    "Na prática, a rede precisa transportar **ativa + reativa**, mas o consumo faturado em energia (kWh) é derivado da **potência ativa** integrada no tempo.\n"
   ]
  },
  {
   "cell_type": "markdown",
   "id": "6bd2ccf6",
   "metadata": {},
   "source": [
    "## 3) Verificar e quantificar valores ausentes"
   ]
  },
  {
   "cell_type": "code",
   "execution_count": null,
   "id": "60d48371",
   "metadata": {},
   "outputs": [],
   "source": [
    "\n",
    "missing_counts = df.isna().sum().sort_values(ascending=False)\n",
    "missing_counts\n"
   ]
  },
  {
   "cell_type": "markdown",
   "id": "46137d98",
   "metadata": {},
   "source": [
    "## 4) Converter `Date` para `datetime` e criar coluna com o dia da semana"
   ]
  },
  {
   "cell_type": "code",
   "execution_count": null,
   "id": "2bb5b4d2",
   "metadata": {},
   "outputs": [],
   "source": [
    "\n",
    "# Combina Date e Time em um único datetime para análises temporais\n",
    "# O dataset usa formato de data 'dd/mm/yyyy'; por isso, dayfirst=True.\n",
    "df['Datetime'] = pd.to_datetime(df['Date'] + ' ' + df['Time'], format='%d/%m/%Y %H:%M:%S', errors='coerce')\n",
    "\n",
    "# Converte Date para datetime\n",
    "df['Date_dt'] = pd.to_datetime(df['Date'], format='%d/%m/%Y', errors='coerce')\n",
    "\n",
    "# Cria coluna com o dia da semana (0=Segunda, 6=Domingo) e o nome do dia\n",
    "df['Weekday'] = df['Date_dt'].dt.weekday\n",
    "df['Weekday_name'] = df['Date_dt'].dt.day_name(locale='pt_BR') if hasattr(pd.Series.dt, 'day_name') else df['Date_dt'].dt.day_name()\n",
    "\n",
    "df[['Date','Time','Date_dt','Weekday','Weekday_name']].head()\n"
   ]
  },
  {
   "cell_type": "markdown",
   "id": "be5259e2",
   "metadata": {},
   "source": [
    "## 5) Filtrar 2007 e calcular média de consumo **diário** de `Global_active_power`"
   ]
  },
  {
   "cell_type": "code",
   "execution_count": null,
   "id": "84518808",
   "metadata": {},
   "outputs": [],
   "source": [
    "\n",
    "# Seleciona apenas 2007\n",
    "df_2007 = df[df['Date_dt'].dt.year == 2007].copy()\n",
    "\n",
    "# Consumo diário (kWh) = soma de kW * 1/60 (min -> hora)\n",
    "daily_energy_2007 = df_2007.groupby(df_2007['Date_dt'])['Global_active_power'].sum(min_count=1) * (1/60.0)\n",
    "\n",
    "media_consumo_diario_2007 = daily_energy_2007.mean()\n",
    "media_consumo_diario_2007\n"
   ]
  },
  {
   "cell_type": "markdown",
   "id": "459896fc",
   "metadata": {},
   "source": [
    "## 6) Gráfico de linha de `Global_active_power` em um único dia"
   ]
  },
  {
   "cell_type": "code",
   "execution_count": null,
   "id": "01ea08b8",
   "metadata": {},
   "outputs": [],
   "source": [
    "\n",
    "# Escolhemos um dia com boa cobertura no dataset: 2007-02-02 (presente no arquivo original).\n",
    "dia_escolhido = pd.Timestamp('2007-02-02')\n",
    "\n",
    "mask_day = df['Date_dt'] == dia_escolhido\n",
    "day_data = df.loc[mask_day, ['Datetime','Global_active_power']].dropna()\n",
    "\n",
    "plt.figure(figsize=(10,4))\n",
    "plt.plot(day_data['Datetime'], day_data['Global_active_power'])\n",
    "plt.title(f\"Global_active_power ao longo do dia {dia_escolhido.date()}\")\n",
    "plt.xlabel(\"Tempo\")\n",
    "plt.ylabel(\"Potência ativa (kW)\")\n",
    "plt.tight_layout()\n",
    "plt.show()\n"
   ]
  },
  {
   "cell_type": "markdown",
   "id": "9db459f8",
   "metadata": {},
   "source": [
    "## 7) Histograma de `Voltage` e observações sobre a distribuição"
   ]
  },
  {
   "cell_type": "code",
   "execution_count": null,
   "id": "d43af1a2",
   "metadata": {},
   "outputs": [],
   "source": [
    "\n",
    "plt.figure(figsize=(6,4))\n",
    "plt.hist(df['Voltage'].dropna(), bins=50, alpha=0.8)\n",
    "plt.title(\"Distribuição de Voltage\")\n",
    "plt.xlabel(\"Tensão (V)\")\n",
    "plt.ylabel(\"Frequência\")\n",
    "plt.tight_layout()\n",
    "plt.show()\n",
    "\n",
    "# Observação sugerida (em Markdown abaixo): geralmente distribuição aproximadamente unimodal,\n",
    "# centrada por volta de ~240V, com cauda moderada dependendo de outliers/horários.\n"
   ]
  },
  {
   "cell_type": "markdown",
   "id": "ec36b2cf",
   "metadata": {},
   "source": [
    "## 8) Consumo médio **por mês** em todo o período"
   ]
  },
  {
   "cell_type": "code",
   "execution_count": null,
   "id": "506f250b",
   "metadata": {},
   "outputs": [],
   "source": [
    "\n",
    "# Energia diária (kWh) em todo o período\n",
    "daily_energy_all = df.groupby(df['Date_dt'])['Global_active_power'].sum(min_count=1) * (1/60.0)\n",
    "\n",
    "# Média mensal do consumo (kWh/dia) calculada como média das energias diárias dentro de cada mês\n",
    "monthly_avg = daily_energy_all.groupby([daily_energy_all.index.year, daily_energy_all.index.month]).mean()\n",
    "monthly_avg = monthly_avg.rename_axis(index=['Ano','Mes']).to_frame('Consumo_medio_kWh_dia')\n",
    "monthly_avg.head(12)\n"
   ]
  },
  {
   "cell_type": "markdown",
   "id": "23d2c4b1",
   "metadata": {},
   "source": [
    "## 9) Dia com **maior consumo de energia ativa global**"
   ]
  },
  {
   "cell_type": "code",
   "execution_count": null,
   "id": "e0e80dbd",
   "metadata": {},
   "outputs": [],
   "source": [
    "\n",
    "max_day = daily_energy_all.idxmax()\n",
    "max_value = daily_energy_all.max()\n",
    "max_day, float(max_value)\n"
   ]
  },
  {
   "cell_type": "markdown",
   "id": "3ec043fa",
   "metadata": {},
   "source": [
    "## 10) Consumo médio em **dias de semana** vs **finais de semana**"
   ]
  },
  {
   "cell_type": "code",
   "execution_count": null,
   "id": "8200ae4d",
   "metadata": {},
   "outputs": [],
   "source": [
    "\n",
    "daily_df = daily_energy_all.to_frame('kWh').reset_index().rename(columns={'index':'Date'})\n",
    "daily_df['Weekday'] = daily_df['Date'].dt.weekday\n",
    "daily_df['is_weekend'] = daily_df['Weekday'] >= 5\n",
    "\n",
    "consumo_semana = daily_df.loc[~daily_df['is_weekend'], 'kWh'].mean()\n",
    "consumo_fimsemana = daily_df.loc[daily_df['is_weekend'], 'kWh'].mean()\n",
    "consumo_semana, consumo_fimsemana\n"
   ]
  },
  {
   "cell_type": "markdown",
   "id": "2c44c96a",
   "metadata": {},
   "source": [
    "## 11) Correlação entre `Global_active_power`, `Global_reactive_power`, `Voltage`, `Global_intensity`"
   ]
  },
  {
   "cell_type": "code",
   "execution_count": null,
   "id": "89d40889",
   "metadata": {},
   "outputs": [],
   "source": [
    "\n",
    "corr_cols = ['Global_active_power','Global_reactive_power','Voltage','Global_intensity']\n",
    "corr_df = df[corr_cols].astype(float).corr(method='pearson')\n",
    "corr_df\n"
   ]
  },
  {
   "cell_type": "markdown",
   "id": "3bc79725",
   "metadata": {},
   "source": [
    "## 12) Criar `Total_Sub_metering = Sub_metering_1 + Sub_metering_2 + Sub_metering_3`"
   ]
  },
  {
   "cell_type": "code",
   "execution_count": null,
   "id": "9c37c4f0",
   "metadata": {},
   "outputs": [],
   "source": [
    "\n",
    "sub_cols = ['Sub_metering_1','Sub_metering_2','Sub_metering_3']\n",
    "df['Total_Sub_metering'] = df[sub_cols].sum(axis=1, min_count=1)\n",
    "df[['Total_Sub_metering'] + sub_cols].head()\n"
   ]
  },
  {
   "cell_type": "markdown",
   "id": "35b933bf",
   "metadata": {},
   "source": [
    "## 13) Algum mês em que `Total_Sub_metering` **ultrapassa** a média de `Global_active_power`?"
   ]
  },
  {
   "cell_type": "code",
   "execution_count": null,
   "id": "45803ad6",
   "metadata": {},
   "outputs": [],
   "source": [
    "\n",
    "# Calcula médias mensais (em kW) comparáveis entre si\n",
    "df_monthly = df.set_index('Datetime').resample('M')[['Global_active_power','Total_Sub_metering']].mean()\n",
    "\n",
    "cond = df_monthly['Total_Sub_metering'] > df_monthly['Global_active_power']\n",
    "excedentes = df_monthly[cond]\n",
    "excedentes\n"
   ]
  },
  {
   "cell_type": "markdown",
   "id": "a4e20160",
   "metadata": {},
   "source": [
    "## 14) Série temporal de `Voltage` para 2008"
   ]
  },
  {
   "cell_type": "code",
   "execution_count": null,
   "id": "da654c3a",
   "metadata": {},
   "outputs": [],
   "source": [
    "\n",
    "df_2008 = df[(df['Date_dt'].dt.year == 2008)].copy()\n",
    "ts_2008 = df_2008.set_index('Datetime')['Voltage'].dropna()\n",
    "\n",
    "plt.figure(figsize=(10,4))\n",
    "plt.plot(ts_2008.index, ts_2008.values)\n",
    "plt.title(\"Voltage ao longo de 2008\")\n",
    "plt.xlabel(\"Tempo\")\n",
    "plt.ylabel(\"Tensão (V)\")\n",
    "plt.tight_layout()\n",
    "plt.show()\n"
   ]
  },
  {
   "cell_type": "markdown",
   "id": "68cb0892",
   "metadata": {},
   "source": [
    "## 15) Comparação de consumo entre **verão** e **inverno** (Hemisfério Norte)"
   ]
  },
  {
   "cell_type": "code",
   "execution_count": null,
   "id": "d4673484",
   "metadata": {},
   "outputs": [],
   "source": [
    "\n",
    "# Verão (JJA) = Junho(6), Julho(7), Agosto(8)\n",
    "# Inverno (DJF) = Dez(12), Jan(1), Fev(2)\n",
    "daily_df = daily_energy_all.to_frame('kWh').reset_index().rename(columns={'index':'Date'})\n",
    "daily_df['month'] = daily_df['Date'].dt.month\n",
    "\n",
    "summer = daily_df[daily_df['month'].isin([6,7,8])]['kWh'].mean()\n",
    "winter = daily_df[daily_df['month'].isin([12,1,2])]['kWh'].mean()\n",
    "summer, winter\n"
   ]
  },
  {
   "cell_type": "markdown",
   "id": "bcf571a5",
   "metadata": {},
   "source": [
    "## 16) Amostragem aleatória de 1% e comparação da distribuição de `Global_active_power`"
   ]
  },
  {
   "cell_type": "code",
   "execution_count": null,
   "id": "2a38686d",
   "metadata": {},
   "outputs": [],
   "source": [
    "\n",
    "# Amostra 1% das linhas não nulas\n",
    "gact = df['Global_active_power'].dropna().astype(float)\n",
    "sample = gact.sample(frac=0.01, random_state=42)\n",
    "\n",
    "plt.figure(figsize=(6,4))\n",
    "plt.hist(gact, bins=60, density=True, alpha=0.5, label='Base completa')\n",
    "plt.hist(sample, bins=60, density=True, alpha=0.5, label='Amostra 1%')\n",
    "plt.title(\"Distribuições de Global_active_power\")\n",
    "plt.xlabel(\"kW\")\n",
    "plt.ylabel(\"Densidade\")\n",
    "plt.legend()\n",
    "plt.tight_layout()\n",
    "plt.show()\n",
    "\n",
    "# Comparação numérica simples (média e desvio)\n",
    "gact.mean(), gact.std(), sample.mean(), sample.std()\n"
   ]
  },
  {
   "cell_type": "markdown",
   "id": "9a743b46",
   "metadata": {},
   "source": [
    "## 17) Normalização Min-Max das variáveis numéricas principais"
   ]
  },
  {
   "cell_type": "code",
   "execution_count": null,
   "id": "37e3cb6f",
   "metadata": {},
   "outputs": [],
   "source": [
    "\n",
    "num_cols = ['Global_active_power','Global_reactive_power','Voltage','Global_intensity','Sub_metering_1','Sub_metering_2','Sub_metering_3','Total_Sub_metering']\n",
    "num_df = df[num_cols].astype(float)\n",
    "\n",
    "scaler = MinMaxScaler()\n",
    "scaled_vals = scaler.fit_transform(num_df.dropna())\n",
    "\n",
    "scaled_df = pd.DataFrame(scaled_vals, columns=num_cols, index=num_df.dropna().index)\n",
    "scaled_df.head()\n"
   ]
  },
  {
   "cell_type": "markdown",
   "id": "2cf817fe",
   "metadata": {},
   "source": [
    "## 18) K-means para segmentar **dias** em 3 grupos de consumo elétrico"
   ]
  },
  {
   "cell_type": "code",
   "execution_count": null,
   "id": "f340dcf2",
   "metadata": {},
   "outputs": [],
   "source": [
    "\n",
    "# Cria features diárias para clusterização\n",
    "grp = df.set_index('Datetime').groupby(pd.Grouper(freq='D'))\n",
    "daily_features = pd.DataFrame({\n",
    "    'energy_kWh': grp['Global_active_power'].sum(min_count=1) * (1/60.0),\n",
    "    'mean_active_kW': grp['Global_active_power'].mean(),\n",
    "    'max_active_kW': grp['Global_active_power'].max(),\n",
    "    'mean_reactive_kW': grp['Global_reactive_power'].mean(),\n",
    "    'mean_voltage': grp['Voltage'].mean(),\n",
    "    'mean_intensity': grp['Global_intensity'].mean(),\n",
    "    'sub_total_mean': grp['Total_Sub_metering'].mean()\n",
    "}).dropna()\n",
    "\n",
    "X = daily_features[['energy_kWh','mean_active_kW','max_active_kW','mean_reactive_kW','mean_voltage','mean_intensity','sub_total_mean']].values\n",
    "\n",
    "kmeans = KMeans(n_clusters=3, n_init=20, random_state=42)\n",
    "labels = kmeans.fit_predict(X)\n",
    "daily_features['cluster'] = labels\n",
    "\n",
    "# Centroides (interpretação)\n",
    "centroids = pd.DataFrame(kmeans.cluster_centers_, columns=['energy_kWh','mean_active_kW','max_active_kW','mean_reactive_kW','mean_voltage','mean_intensity','sub_total_mean'])\n",
    "cluster_sizes = daily_features['cluster'].value_counts().sort_index()\n",
    "\n",
    "centroids, cluster_sizes\n"
   ]
  },
  {
   "cell_type": "markdown",
   "id": "eecc0d5f",
   "metadata": {},
   "source": [
    "## 19) Decomposição de série temporal (6 meses) para `Global_active_power`"
   ]
  },
  {
   "cell_type": "code",
   "execution_count": null,
   "id": "60300b34",
   "metadata": {},
   "outputs": [],
   "source": [
    "\n",
    "# Usaremos série diária média de Global_active_power e um intervalo de 6 meses (ex.: 2007-01 a 2007-06).\n",
    "periodo = (pd.Timestamp('2007-01-01'), pd.Timestamp('2007-06-30'))\n",
    "\n",
    "daily_mean_active = df.set_index('Datetime').loc[periodo[0]:periodo[1], 'Global_active_power'].resample('D').mean()\n",
    "\n",
    "# seasonal_decompose requer um período sazonal; para diário podemos considerar sazonalidade semanal (~7)\n",
    "result = seasonal_decompose(daily_mean_active.dropna(), model='additive', period=7)\n",
    "\n",
    "fig = result.plot()\n",
    "fig.set_size_inches(10,8)\n",
    "plt.tight_layout()\n",
    "plt.show()\n"
   ]
  },
  {
   "cell_type": "markdown",
   "id": "6ab177fe",
   "metadata": {},
   "source": [
    "## 20) Regressão linear simples: prever `Global_active_power` a partir de `Global_intensity`"
   ]
  },
  {
   "cell_type": "code",
   "execution_count": null,
   "id": "c07b5fb6",
   "metadata": {},
   "outputs": [],
   "source": [
    "\n",
    "data_lr = df[['Global_active_power','Global_intensity']].dropna().astype(float)\n",
    "\n",
    "X = data_lr[['Global_intensity']].values\n",
    "y = data_lr['Global_active_power'].values\n",
    "\n",
    "X_train, X_test, y_train, y_test = train_test_split(X, y, test_size=0.2, random_state=42)\n",
    "\n",
    "model = LinearRegression()\n",
    "model.fit(X_train, y_train)\n",
    "\n",
    "y_pred = model.predict(X_test)\n",
    "\n",
    "mae = mean_absolute_error(y_test, y_pred)\n",
    "mse = mean_squared_error(y_test, y_pred)\n",
    "rmse = np.sqrt(mse)\n",
    "r2 = r2_score(y_test, y_pred)\n",
    "\n",
    "coef = float(model.coef_[0])\n",
    "intercept = float(model.intercept_)\n",
    "\n",
    "coef, intercept, mae, rmse, r2\n"
   ]
  },
  {
   "cell_type": "markdown",
   "id": "c4fa143b",
   "metadata": {},
   "source": [
    "\n",
    "### Notas de interpretação (guias rápidos)\n",
    "\n",
    "- **(7) Voltage**: normalmente apresenta distribuição aproximadamente unimodal, com valores concentrados ao redor de ~240 V, podendo haver caudas e pequenas variações conforme horários.\n",
    "- **(9) Dia de maior consumo**: calculado pela **energia diária (kWh)** a partir de `Global_active_power`. Esse valor pode indicar dias com maior uso de eletrodomésticos ou condições sazonais.\n",
    "- **(10) Semana vs. Fim de semana**: diferenças podem refletir padrões de permanência em casa, rotinas de trabalho e uso de equipamentos.\n",
    "- **(11) Correlações**: espera-se correlação positiva entre `Global_active_power` e `Global_intensity`, já que intensidade de corrente tende a aumentar com a potência ativa.\n",
    "- **(13) Sub-metering vs. Global**: `Total_Sub_metering` mede apenas três subcircuitos; é comum que **não** supere a média de `Global_active_power` mensal, pois há consumo não medido por esses submedidores.\n",
    "- **(18) K-means**: clusters podem separar dias de **baixo**, **médio** e **alto** consumo. Interprete pelos centroides e tamanhos dos grupos.\n",
    "- **(19) Decomposição**: em dados diários, a sazonalidade semanal (período ~7) é útil para revelar padrões por dia da semana.\n",
    "- **(20) Regressão**: avalie MAE/RMSE/R²; relação linear simples capta parte, mas não toda a variabilidade.\n"
   ]
  },
  {
   "cell_type": "markdown",
   "id": "47e11ae6",
   "metadata": {},
   "source": [
    "\n",
    "# PARTE 2 — Exercícios adicionais\n",
    "\n",
    "Neste arquivo adicionamos as tarefas 21 a 25 solicitadas, que cobrem reamostragem horária, autocorrelação, PCA, visualização de clusters no espaço PCA e comparação entre regressão linear e polinomial.\n"
   ]
  },
  {
   "cell_type": "markdown",
   "id": "f7666634",
   "metadata": {},
   "source": [
    "\n",
    "## 21) Séries temporais por hora\n",
    "- Converta `Date` e `Time` em índice `Datetime`.\n",
    "- Reamostre os dados em intervalos de 1 hora, calculando a **média** de `Global_active_power`.\n",
    "- Identifique os horários (hora do dia) de maior consumo médio ao longo do dia.\n"
   ]
  },
  {
   "cell_type": "code",
   "execution_count": null,
   "id": "29a72387",
   "metadata": {},
   "outputs": [],
   "source": [
    "\n",
    "import pandas as pd\n",
    "import numpy as np\n",
    "import matplotlib.pyplot as plt\n",
    "\n",
    "# Leitura (assume que o arquivo foi extraído previamente)\n",
    "df = pd.read_csv('household_power_consumption.txt', sep=';', na_values=['?'], low_memory=False)\n",
    "\n",
    "# Criar Datetime\n",
    "df['Datetime'] = pd.to_datetime(df['Date'] + ' ' + df['Time'], format='%d/%m/%Y %H:%M:%S', errors='coerce')\n",
    "df = df.dropna(subset=['Datetime']).set_index('Datetime')\n",
    "\n",
    "# Converter colunas numéricas\n",
    "for col in ['Global_active_power','Global_reactive_power','Voltage','Global_intensity','Sub_metering_1','Sub_metering_2','Sub_metering_3']:\n",
    "    df[col] = pd.to_numeric(df[col], errors='coerce')\n",
    "\n",
    "# Reamostrar por hora (média de Global_active_power)\n",
    "hourly = df['Global_active_power'].resample('H').mean()\n",
    "\n",
    "# Identificar horário do dia com maior consumo médio ao longo do período\n",
    "# Calculamos a média por hora-of-day (0-23)\n",
    "hour_of_day = hourly.groupby(hourly.index.hour).mean().sort_values(ascending=False)\n",
    "hour_of_day\n"
   ]
  },
  {
   "cell_type": "markdown",
   "id": "19ba6168",
   "metadata": {},
   "source": [
    "\n",
    "## 22) Autocorrelação do consumo\n",
    "- Use a série temporal de `Global_active_power` reamostrada por hora.\n",
    "- Calcule a autocorrelação para lags de 1h, 24h e 48h.\n",
    "- Pergunta: existem padrões repetidos diariamente?\n"
   ]
  },
  {
   "cell_type": "code",
   "execution_count": null,
   "id": "78f881f3",
   "metadata": {},
   "outputs": [],
   "source": [
    "\n",
    "# Garantir série horária contínua com frequência horária\n",
    "hourly_full = hourly.asfreq('H')\n",
    "\n",
    "# Autocorrelações\n",
    "autocorr_1h = hourly_full.autocorr(lag=1)\n",
    "autocorr_24h = hourly_full.autocorr(lag=24)\n",
    "autocorr_48h = hourly_full.autocorr(lag=48)\n",
    "\n",
    "autocorr_1h, autocorr_24h, autocorr_48h\n"
   ]
  },
  {
   "cell_type": "markdown",
   "id": "a3f9cdee",
   "metadata": {},
   "source": [
    "\n",
    "## 23) Redução de dimensionalidade com PCA\n",
    "- Selecionar `Global_active_power`, `Global_reactive_power`, `Voltage` e `Global_intensity`.\n",
    "- Aplicar PCA para reduzir para 2 componentes principais.\n",
    "- Analisar a variância explicada por cada componente.\n"
   ]
  },
  {
   "cell_type": "code",
   "execution_count": null,
   "id": "c027ebbc",
   "metadata": {},
   "outputs": [],
   "source": [
    "\n",
    "from sklearn.decomposition import PCA\n",
    "from sklearn.preprocessing import StandardScaler\n",
    "\n",
    "pca_df = df[['Global_active_power','Global_reactive_power','Voltage','Global_intensity']].dropna().astype(float)\n",
    "\n",
    "# Padronizar antes do PCA\n",
    "scaler = StandardScaler()\n",
    "X_scaled = scaler.fit_transform(pca_df)\n",
    "\n",
    "pca = PCA(n_components=2, random_state=42)\n",
    "X_pca = pca.fit_transform(X_scaled)\n",
    "\n",
    "explained_variance = pca.explained_variance_ratio_\n",
    "explained_variance\n"
   ]
  },
  {
   "cell_type": "markdown",
   "id": "5155c94a",
   "metadata": {},
   "source": [
    "\n",
    "## 24) Visualização de clusters no espaço PCA\n",
    "- Combine o PCA com K-Means (3 clusters).\n",
    "- Plote os pontos no espaço dos 2 componentes principais, colorindo por cluster.\n",
    "- Pergunta: os grupos se separam de forma clara?\n"
   ]
  },
  {
   "cell_type": "code",
   "execution_count": null,
   "id": "a7bbe605",
   "metadata": {},
   "outputs": [],
   "source": [
    "\n",
    "from sklearn.cluster import KMeans\n",
    "\n",
    "# Aplicar KMeans sobre os componentes PCA\n",
    "kmeans_pca = KMeans(n_clusters=3, n_init=20, random_state=42)\n",
    "labels_pca = kmeans_pca.fit_predict(X_pca)\n",
    "\n",
    "import matplotlib.pyplot as plt\n",
    "plt.figure(figsize=(8,6))\n",
    "scatter = plt.scatter(X_pca[:,0], X_pca[:,1], c=labels_pca, s=10, cmap='tab10', alpha=0.6)\n",
    "plt.xlabel('PC1')\n",
    "plt.ylabel('PC2')\n",
    "plt.title('PCA (2 componentes) com K-Means (3 clusters)')\n",
    "plt.grid(alpha=0.3)\n",
    "plt.show()\n",
    "\n",
    "# Centroides dos clusters no espaço PCA\n",
    "centroids_pca = kmeans_pca.cluster_centers_\n",
    "centroids_pca\n"
   ]
  },
  {
   "cell_type": "markdown",
   "id": "df909ed4",
   "metadata": {},
   "source": [
    "\n",
    "## 25) Regressão polinomial vs linear\n",
    "- Modelar `Global_active_power` em função de `Voltage`.\n",
    "- Comparar Regressão Linear Simples com Regressão Polinomial (grau 2).\n",
    "- Analisar RMSE e a curva ajustada.\n"
   ]
  },
  {
   "cell_type": "code",
   "execution_count": null,
   "id": "028fe181",
   "metadata": {},
   "outputs": [],
   "source": [
    "\n",
    "from sklearn.linear_model import LinearRegression\n",
    "from sklearn.preprocessing import PolynomialFeatures\n",
    "from sklearn.metrics import mean_squared_error\n",
    "import numpy as np\n",
    "import matplotlib.pyplot as plt\n",
    "\n",
    "# Preparar dados (remoção de NA)\n",
    "reg_df = df[['Voltage','Global_active_power']].dropna().astype(float)\n",
    "\n",
    "# Amostragem para acelerar (opcional)\n",
    "reg_sample = reg_df.sample(frac=0.2, random_state=42) if len(reg_df) > 200000 else reg_df.copy()\n",
    "\n",
    "X = reg_sample[['Voltage']].values\n",
    "y = reg_sample['Global_active_power'].values\n",
    "\n",
    "# Linear\n",
    "lr = LinearRegression()\n",
    "lr.fit(X, y)\n",
    "y_pred_lin = lr.predict(X)\n",
    "rmse_lin = np.sqrt(mean_squared_error(y, y_pred_lin))\n",
    "\n",
    "# Polinomial grau 2\n",
    "poly = PolynomialFeatures(degree=2, include_bias=False)\n",
    "X_poly = poly.fit_transform(X)\n",
    "lr_poly = LinearRegression()\n",
    "lr_poly.fit(X_poly, y)\n",
    "y_pred_poly = lr_poly.predict(X_poly)\n",
    "rmse_poly = np.sqrt(mean_squared_error(y, y_pred_poly))\n",
    "\n",
    "rmse_lin, rmse_poly\n"
   ]
  },
  {
   "cell_type": "markdown",
   "id": "cef2e637",
   "metadata": {},
   "source": [
    "\n",
    "### Observações e interpretação rápida\n",
    "\n",
    "- **21 (hora de maior consumo)**: a agregação por hora-of-day revela horários com maior média — normalmente horários noturnos/manhãs dependendo do padrão local.  \n",
    "- **22 (autocorrelação)**: autocorrelação alta em lag=24h indica padrão diário repetido; lag=48h reforça periodicidade.  \n",
    "- **23 (PCA)**: verifique `explained_variance` para ver quanto dos dados os dois PCs capturam; valores maiores que ~0.6/0.7 indicam boa compressão.  \n",
    "- **24 (visualização)**: a separação visual dos clusters pode ser clara ou sobreposta; verifique centroides e distribuição para interpretar (ex.: cluster 0 = dias de alto consumo).  \n",
    "- **25 (regressão)**: se a relação tensão → potência for fraca, RMSE permanecerá alto e o ganho do polinômio será pequeno.\n"
   ]
  }
 ],
 "metadata": {},
 "nbformat": 4,
 "nbformat_minor": 5
}
